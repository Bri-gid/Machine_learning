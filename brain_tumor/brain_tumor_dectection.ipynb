{
 "cells": [
  {
   "cell_type": "markdown",
   "metadata": {},
   "source": [
    "Import Dependencies"
   ]
  },
  {
   "cell_type": "markdown",
   "metadata": {},
   "source": [
    "#1 Install and import dependencies"
   ]
  },
  {
   "cell_type": "code",
   "execution_count": 2,
   "metadata": {},
   "outputs": [],
   "source": [
    "import numpy as np\n",
    "import seaborn as sns\n",
    "import torch\n",
    "from torch.utils.data import Dataset, DataLoader\n",
    "import glob\n",
    "import matplotlib.pyplot as plt\n",
    "from sklearn.metrics import confusion_matrix, accuracy_score\n",
    "import random\n",
    "import sys\n",
    "import cv2"
   ]
  },
  {
   "cell_type": "markdown",
   "metadata": {},
   "source": [
    "#2 Get Data and Create a custom class"
   ]
  },
  {
   "cell_type": "code",
   "execution_count": 3,
   "metadata": {},
   "outputs": [],
   "source": [
    "class MRI(Dataset):\n",
    "    def __init__(self):\n",
    "        healthy = []\n",
    "        path = \"/home/biddy/Desktop/t_MRI/brain_tumor_dataset/no/*.jpg\"\n",
    "        paths = \"/home/biddy/Desktop/t_MRI/brain_tumor_dataset/no/*.JPG\"\n",
    "        for image in glob.iglob(path):\n",
    "            img =cv2.imread(image)\n",
    "            img =cv2.resize(img,(128,128))\n",
    "            b,g,r = cv2.split(img)\n",
    "            img = cv2.merge([r,g,b])\n",
    "            img = img.reshape(img.shape[2],img.shape[0],img.shape[1])\n",
    "            healthy.append(img)\n",
    "        for i in glob.iglob(paths):\n",
    "            img = cv2.imread(i)\n",
    "            img = cv2.resize(img,(128,128))\n",
    "            b,g,r = cv2.split(img)\n",
    "            img = cv2.merge([r,g,b])\n",
    "            img = img.reshape(img.shape[2],img.shape[0],img.shape[1])\n",
    "            healthy.append(img)\n",
    "\n",
    "        tumor = []\n",
    "        path =\"/home/biddy/Desktop/t_MRI/brain_tumor_dataset/yes/*.jpg\"\n",
    "        paths =\"/home/biddy/Desktop/t_MRI/brain_tumor_dataset/yes/*.JPG\"\n",
    "        for image in glob.iglob(path):\n",
    "            img = cv2.imread(image)\n",
    "            img = cv2.resize(img,(128,128))\n",
    "            b,g,r = cv2.split(img)\n",
    "            img = cv2.merge([r,g,b])\n",
    "            img = img.reshape(img.shape[2],img.shape[0],img.shape[1])\n",
    "            tumor.append(img)\n",
    "        for i in glob.iglob(paths):\n",
    "            img = cv2.imread(i)\n",
    "            img = cv2.resize(img,(128,128))\n",
    "            b,g,r = cv2.split(img)\n",
    "            img = cv2.merge([r,g,b])\n",
    "            img = img.reshape(img.shape[2],img.shape[0],img.shape[1])\n",
    "            tumor.append(img)\n",
    "\n",
    "#            Our Images\n",
    "        tumor = np.array(tumor,dtype=np.float32)\n",
    "        healthy = np.array(healthy,dtype=np.float32)\n",
    "\n",
    "# Our Ground lables\n",
    "        tumor_label = np.ones(tumor.shape[0],dtype=np.float32)\n",
    "        healthy_label = np.zeros(healthy.shape[0],dtype=np.float32)\n",
    "\n",
    " #concatenate\n",
    "        self.images = np.concatenate((tumor, healthy), axis=0)\n",
    "        self.labels = np.concatenate((tumor_label, healthy_label))\n",
    "\n",
    "\n",
    "    def __len__(self):\n",
    "        return self.images.shape[0]\n",
    "\n",
    "    def __getitem__(self, index):\n",
    "        sample ={\"image\":self.images[index], \"label\": self.labels[index]}\n",
    "        return sample\n",
    "\n",
    "    def normalize(self):\n",
    "        self.images = self.images/255.0\n"
   ]
  },
  {
   "cell_type": "markdown",
   "metadata": {},
   "source": [
    "#3 Create CNN Model"
   ]
  },
  {
   "cell_type": "code",
   "execution_count": 7,
   "metadata": {},
   "outputs": [],
   "source": [
    "import torch.nn as nn\n",
    "import torch.nn.functional as F\n",
    "\n",
    "\n",
    "class CNN(nn.Module):\n",
    "    def __init__(self):\n",
    "        super(CNN,self).__init__()\n",
    "        self.cnn_model = nn.Sequential(\n",
    "        nn.Conv2d(in_channels=3, out_channels=6, kernel_size=5),\n",
    "        nn.Tanh(),\n",
    "        nn.AvgPool2d(kernel_size=2, stride=5),\n",
    "        nn.Conv2d(in_channels=6, out_channels=16, kernel_size=5),\n",
    "        nn.Tanh(),\n",
    "        nn.AvgPool2d(kernel_size=2, stride=5)\n",
    "        )\n",
    "\n",
    "        self.fc_model = nn.Sequential(\n",
    "        nn.Linear(in_features=256, out_features=120),\n",
    "        nn.Tanh(),\n",
    "        nn.Linear(in_features=120, out_features=84),\n",
    "        nn.Tanh(),\n",
    "        nn.Linear(in_features=84, out_features=1)\n",
    "        )\n",
    "\n",
    "    def forward(self, x):\n",
    "        x = self.cnn_model(x)\n",
    "        x = x.view(x.size(0),-1)\n",
    "        x = self.fc_model(x)\n",
    "        x = F.sigmoid(x)\n",
    "\n",
    "        return x\n"
   ]
  },
  {
   "cell_type": "markdown",
   "metadata": {},
   "source": [
    "#4 Evaluate a New-Born Neural Network"
   ]
  },
  {
   "cell_type": "code",
   "execution_count": 8,
   "metadata": {},
   "outputs": [],
   "source": [
    "mri_dataset = MRI()\n",
    "mri_dataset.normalize()\n",
    "model = CNN()"
   ]
  },
  {
   "cell_type": "markdown",
   "metadata": {},
   "source": [
    "#5 Train Data"
   ]
  },
  {
   "cell_type": "code",
   "execution_count": 9,
   "metadata": {},
   "outputs": [
    {
     "data": {
      "text/plain": [
       "CNN(\n",
       "  (cnn_model): Sequential(\n",
       "    (0): Conv2d(3, 6, kernel_size=(5, 5), stride=(1, 1))\n",
       "    (1): Tanh()\n",
       "    (2): AvgPool2d(kernel_size=2, stride=5, padding=0)\n",
       "    (3): Conv2d(6, 16, kernel_size=(5, 5), stride=(1, 1))\n",
       "    (4): Tanh()\n",
       "    (5): AvgPool2d(kernel_size=2, stride=5, padding=0)\n",
       "  )\n",
       "  (fc_model): Sequential(\n",
       "    (0): Linear(in_features=256, out_features=120, bias=True)\n",
       "    (1): Tanh()\n",
       "    (2): Linear(in_features=120, out_features=84, bias=True)\n",
       "    (3): Tanh()\n",
       "    (4): Linear(in_features=84, out_features=1, bias=True)\n",
       "  )\n",
       ")"
      ]
     },
     "execution_count": 9,
     "metadata": {},
     "output_type": "execute_result"
    }
   ],
   "source": [
    "eta = 0.001\n",
    "EPOCH = 400\n",
    "optimizer = torch.optim.Adam(model.parameters(),lr=eta)\n",
    "dataloader = DataLoader(mri_dataset, batch_size = 32, shuffle = True)\n",
    "model.train()"
   ]
  },
  {
   "cell_type": "code",
   "execution_count": 10,
   "metadata": {},
   "outputs": [
    {
     "name": "stdout",
     "output_type": "stream",
     "text": [
      "Train Epoch:10loss:0.516488\n",
      "Train Epoch:20loss:0.389983\n",
      "Train Epoch:30loss:0.222295\n",
      "Train Epoch:40loss:0.078906\n",
      "Train Epoch:50loss:0.012859\n",
      "Train Epoch:60loss:0.003457\n",
      "Train Epoch:70loss:0.001708\n",
      "Train Epoch:80loss:0.001071\n",
      "Train Epoch:90loss:0.000763\n",
      "Train Epoch:100loss:0.000577\n",
      "Train Epoch:110loss:0.000443\n",
      "Train Epoch:120loss:0.000378\n",
      "Train Epoch:130loss:0.000301\n",
      "Train Epoch:140loss:0.000247\n",
      "Train Epoch:150loss:0.000209\n",
      "Train Epoch:160loss:0.000180\n",
      "Train Epoch:170loss:0.000158\n",
      "Train Epoch:180loss:0.000140\n",
      "Train Epoch:190loss:0.000122\n",
      "Train Epoch:200loss:0.000109\n",
      "Train Epoch:210loss:0.000098\n",
      "Train Epoch:220loss:0.000089\n",
      "Train Epoch:230loss:0.000079\n",
      "Train Epoch:240loss:0.000073\n",
      "Train Epoch:250loss:0.000065\n",
      "Train Epoch:260loss:0.000062\n",
      "Train Epoch:270loss:0.000056\n",
      "Train Epoch:280loss:0.000050\n",
      "Train Epoch:290loss:0.000047\n",
      "Train Epoch:300loss:0.000043\n",
      "Train Epoch:310loss:0.000041\n",
      "Train Epoch:320loss:0.000037\n",
      "Train Epoch:330loss:0.000035\n",
      "Train Epoch:340loss:0.000031\n",
      "Train Epoch:350loss:0.000030\n",
      "Train Epoch:360loss:0.000028\n",
      "Train Epoch:370loss:0.000027\n",
      "Train Epoch:380loss:0.000025\n",
      "Train Epoch:390loss:0.000024\n",
      "Train Epoch:400loss:0.000021\n"
     ]
    }
   ],
   "source": [
    "for epoch in range(1, EPOCH):\n",
    "    losses = []\n",
    "    for D in dataloader:\n",
    "        optimizer.zero_grad()\n",
    "        data = D[\"image\"]\n",
    "        label = D[\"label\"]\n",
    "        y_hat = model(data)\n",
    "        #define loss function\n",
    "        error = nn.BCELoss()\n",
    "        loss= torch.sum(error(y_hat.squeeze(),label))\n",
    "        loss.backward()\n",
    "        optimizer.step()\n",
    "        losses.append(loss.item())\n",
    "    if (epoch+1)% 10==0:\n",
    "        print(\"Train Epoch:{}loss:{:.6f}\".format(epoch+1, np.mean(losses)))"
   ]
  },
  {
   "cell_type": "markdown",
   "metadata": {},
   "source": [
    "#6 Test Model"
   ]
  },
  {
   "cell_type": "code",
   "execution_count": 11,
   "metadata": {},
   "outputs": [],
   "source": [
    "model.eval()\n",
    "outputs = []\n",
    "y_true = []\n",
    "\n",
    "with torch.no_grad():\n",
    "    for  D in dataloader:\n",
    "        image = D[\"image\"]\n",
    "        label = D[\"label\"]\n",
    "\n",
    "\n",
    "        y_hat = model(image)\n",
    "\n",
    "        outputs.append(y_hat.cpu().detach().numpy())\n",
    "        y_true.append(label.cpu().detach().numpy())\n",
    "\n",
    "outputs = np.concatenate(outputs, axis = 0). squeeze()\n",
    "y_true = np.concatenate(y_true, axis = 0).squeeze()"
   ]
  },
  {
   "cell_type": "markdown",
   "metadata": {},
   "source": [
    "Define Threshold"
   ]
  },
  {
   "cell_type": "code",
   "execution_count": 12,
   "metadata": {},
   "outputs": [],
   "source": [
    "def threshold(scores, threshold= 0.50, minimum = 0, maximum=1.0):\n",
    "    x= np.array(list(scores))\n",
    "    x[x >= threshold] = maximum\n",
    "    x[x< threshold] = minimum\n",
    "    return x"
   ]
  },
  {
   "cell_type": "markdown",
   "metadata": {},
   "source": [
    "Check Accuracy and confusion matrix"
   ]
  },
  {
   "cell_type": "code",
   "execution_count": 13,
   "metadata": {},
   "outputs": [
    {
     "data": {
      "text/plain": [
       "1.0"
      ]
     },
     "execution_count": 13,
     "metadata": {},
     "output_type": "execute_result"
    }
   ],
   "source": [
    "accuracy_score(y_true, threshold(outputs))"
   ]
  },
  {
   "cell_type": "markdown",
   "metadata": {},
   "source": [
    "Visualizing the Feature Maps of Maps of the convolutional filters"
   ]
  },
  {
   "cell_type": "code",
   "execution_count": 14,
   "metadata": {},
   "outputs": [
    {
     "data": {
      "text/plain": [
       "[Text(0, 0.5, 'Tumor'), Text(0, 1.5, 'Healthy')]"
      ]
     },
     "execution_count": 14,
     "metadata": {},
     "output_type": "execute_result"
    },
    {
     "data": {
      "image/png": "[encoded data removed]",
      "text/plain": [
       "<Figure size 1600x900 with 2 Axes>"
      ]
     },
     "metadata": {},
     "output_type": "display_data"
    }
   ],
   "source": [
    "cm = confusion_matrix(y_true, threshold(outputs))\n",
    "plt.figure(figsize=(16,9))\n",
    "ax = plt.subplot()\n",
    "sns.heatmap(cm, annot= True, fmt=\"g\", ax=ax);\n",
    "#ax.set_xlabel(\"Predicted labels\"); ax.set_ylabel(\"True labels\");\n",
    "#ax.set_title(\"Confusion Matrix\");\n",
    "#ax.axis.set_ticklabels([\"Tumor\", \"Healthy\"])\n",
    "#ax.yxis.set_ticklabels([\"Tumor\", \"Healthy\"])\n",
    "# Set labels and title\n",
    "ax.set_xlabel(\"Predicted labels\")\n",
    "ax.set_ylabel(\"True labels\")\n",
    "ax.set_title(\"Confusion Matrix\")\n",
    "\n",
    "# Set tick labels for x-axis and y-axis\n",
    "ax.set_xticklabels([\"Tumor\", \"Healthy\"])\n",
    "ax.set_yticklabels([\"Tumor\", \"Healthy\"])"
   ]
  }
 ],
 "metadata": {
  "kernelspec": {
   "display_name": "t_MRI-lWDMoQ_j",
   "language": "python",
   "name": "python3"
  },
  "language_info": {
   "codemirror_mode": {
    "name": "ipython",
    "version": 3
   },
   "file_extension": ".py",
   "mimetype": "text/x-python",
   "name": "python",
   "nbconvert_exporter": "python",
   "pygments_lexer": "ipython3",
   "version": "3.11.2"
  }
 },
 "nbformat": 4,
 "nbformat_minor": 2
}
